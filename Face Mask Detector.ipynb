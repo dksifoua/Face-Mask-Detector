{
  "nbformat": 4,
  "nbformat_minor": 0,
  "metadata": {
    "colab": {
      "name": "Face Mask Detector.ipynb",
      "provenance": [],
      "collapsed_sections": [],
      "authorship_tag": "ABX9TyOBuTloN8x78ZP7yti8hLrW",
      "include_colab_link": true
    },
    "kernelspec": {
      "name": "python3",
      "display_name": "Python 3"
    },
    "accelerator": "GPU"
  },
  "cells": [
    {
      "cell_type": "markdown",
      "metadata": {
        "id": "view-in-github",
        "colab_type": "text"
      },
      "source": [
        "<a href=\"https://colab.research.google.com/github/dksifoua/Face-Mask-Detector/blob/main/Face%20Mask%20Detector.ipynb\" target=\"_parent\"><img src=\"https://colab.research.google.com/assets/colab-badge.svg\" alt=\"Open In Colab\"/></a>"
      ]
    },
    {
      "cell_type": "code",
      "metadata": {
        "id": "5bYGEgvZm6rQ",
        "outputId": "166e4afb-9060-4ba5-c5a9-ad2351c3247c",
        "colab": {
          "base_uri": "https://localhost:8080/"
        }
      },
      "source": [
        "!git clone https://github.com/dksifoua/Face-Mask-Detector.git"
      ],
      "execution_count": 2,
      "outputs": [
        {
          "output_type": "stream",
          "text": [
            "Cloning into 'Face-Mask-Detector'...\n",
            "remote: Enumerating objects: 1296, done.\u001b[K\n",
            "remote: Counting objects: 100% (1296/1296), done.\u001b[K\n",
            "remote: Compressing objects: 100% (1292/1292), done.\u001b[K\n",
            "remote: Total 1296 (delta 1), reused 1292 (delta 1), pack-reused 0\u001b[K\n",
            "Receiving objects: 100% (1296/1296), 48.48 MiB | 45.88 MiB/s, done.\n",
            "Resolving deltas: 100% (1/1), done.\n"
          ],
          "name": "stdout"
        }
      ]
    },
    {
      "cell_type": "code",
      "metadata": {
        "id": "fs3tN0o-nNKt",
        "outputId": "44b83e90-c4c0-4e46-a457-b31fa3d23e62",
        "colab": {
          "base_uri": "https://localhost:8080/",
          "height": 35
        }
      },
      "source": [
        "import os\n",
        "os.getcwd()"
      ],
      "execution_count": 3,
      "outputs": [
        {
          "output_type": "execute_result",
          "data": {
            "application/vnd.google.colaboratory.intrinsic+json": {
              "type": "string"
            },
            "text/plain": [
              "'/content'"
            ]
          },
          "metadata": {
            "tags": []
          },
          "execution_count": 3
        }
      ]
    },
    {
      "cell_type": "code",
      "metadata": {
        "id": "fExHIA-0nUN1",
        "outputId": "40ea7ac7-ece8-4bbc-b245-d3ffcdfa75c3",
        "colab": {
          "base_uri": "https://localhost:8080/",
          "height": 35
        }
      },
      "source": [
        "os.chdir('./Face-Mask-Detector/')\n",
        "os.getcwd()"
      ],
      "execution_count": 4,
      "outputs": [
        {
          "output_type": "execute_result",
          "data": {
            "application/vnd.google.colaboratory.intrinsic+json": {
              "type": "string"
            },
            "text/plain": [
              "'/content/Face-Mask-Detector'"
            ]
          },
          "metadata": {
            "tags": []
          },
          "execution_count": 4
        }
      ]
    },
    {
      "cell_type": "code",
      "metadata": {
        "id": "nMoHJJeFTqEq",
        "outputId": "e733efb6-4f97-48eb-b034-0a67b330d17b",
        "colab": {
          "base_uri": "https://localhost:8080/"
        }
      },
      "source": [
        "!nvidia-smi"
      ],
      "execution_count": 105,
      "outputs": [
        {
          "output_type": "stream",
          "text": [
            "Wed Nov  4 03:30:57 2020       \n",
            "+-----------------------------------------------------------------------------+\n",
            "| NVIDIA-SMI 455.32.00    Driver Version: 418.67       CUDA Version: 10.1     |\n",
            "|-------------------------------+----------------------+----------------------+\n",
            "| GPU  Name        Persistence-M| Bus-Id        Disp.A | Volatile Uncorr. ECC |\n",
            "| Fan  Temp  Perf  Pwr:Usage/Cap|         Memory-Usage | GPU-Util  Compute M. |\n",
            "|                               |                      |               MIG M. |\n",
            "|===============================+======================+======================|\n",
            "|   0  Tesla T4            Off  | 00000000:00:04.0 Off |                    0 |\n",
            "| N/A   69C    P0    32W /  70W |   2780MiB / 15079MiB |      0%      Default |\n",
            "|                               |                      |                 ERR! |\n",
            "+-------------------------------+----------------------+----------------------+\n",
            "                                                                               \n",
            "+-----------------------------------------------------------------------------+\n",
            "| Processes:                                                                  |\n",
            "|  GPU   GI   CI        PID   Type   Process name                  GPU Memory |\n",
            "|        ID   ID                                                   Usage      |\n",
            "|=============================================================================|\n",
            "|  No running processes found                                                 |\n",
            "+-----------------------------------------------------------------------------+\n"
          ],
          "name": "stdout"
        }
      ]
    },
    {
      "cell_type": "markdown",
      "metadata": {
        "id": "6ExlGjFPTuOU"
      },
      "source": [
        "## Load dependencies"
      ]
    },
    {
      "cell_type": "code",
      "metadata": {
        "id": "wXhgEtZjmOeU"
      },
      "source": [
        "# !pip install wget"
      ],
      "execution_count": null,
      "outputs": []
    },
    {
      "cell_type": "code",
      "metadata": {
        "id": "KxpPHxVInmz9"
      },
      "source": [
        "import os\n",
        "import cv2\n",
        "import tqdm\n",
        "import wget\n",
        "import argparse\n",
        "import numpy as np\n",
        "import tensorflow as tf\n",
        "import matplotlib.pyplot as plt\n",
        "from sklearn.preprocessing import LabelBinarizer\n",
        "from sklearn.model_selection import train_test_split\n",
        "from sklearn.metrics import accuracy_score, f1_score"
      ],
      "execution_count": 128,
      "outputs": []
    },
    {
      "cell_type": "code",
      "metadata": {
        "id": "6Dpiv_GrTy6p"
      },
      "source": [
        "%matplotlib inline\n",
        "\n",
        "SEED = 456\n",
        "np.random.seed(SEED)\n",
        "tf.random.set_seed(SEED)"
      ],
      "execution_count": 107,
      "outputs": []
    },
    {
      "cell_type": "markdown",
      "metadata": {
        "id": "QBWlalJ4T5_-"
      },
      "source": [
        "## Train Mask Classifier\n",
        "\n",
        "***Prepare data***"
      ]
    },
    {
      "cell_type": "code",
      "metadata": {
        "id": "ZMC6PzyKoEXE",
        "outputId": "5121d4c4-1d5b-4fd5-8578-837afcd8aaed",
        "colab": {
          "base_uri": "https://localhost:8080/"
        }
      },
      "source": [
        " data, labels = [], []\n",
        "for label in os.listdir('./data'):\n",
        "    image_path = os.path.join('./data', label)\n",
        "    for image_filename in tqdm.tqdm(os.listdir(image_path)):\n",
        "        image = tf.keras.preprocessing.image.load_img(os.path.join(image_path, image_filename), target_size=(224, 224))\n",
        "        image = tf.keras.preprocessing.image.img_to_array(image)\n",
        "        image = tf.keras.applications.mobilenet_v2.preprocess_input(image)\n",
        "        data.append(image)\n",
        "        labels.append(label)\n",
        "\n",
        "data = np.array(data, dtype='float32')\n",
        "labels = np.array(labels)\n",
        "print(f'Data shape: {data.shape}')\n",
        "print(f'Labels shape: {labels.shape}')"
      ],
      "execution_count": 6,
      "outputs": [
        {
          "output_type": "stream",
          "text": [
            "100%|██████████| 690/690 [00:02<00:00, 258.18it/s]\n",
            "100%|██████████| 686/686 [00:02<00:00, 341.96it/s]\n"
          ],
          "name": "stderr"
        },
        {
          "output_type": "stream",
          "text": [
            "Data shape: (1376, 224, 224, 3)\n",
            "Labels shape: (1376,)\n"
          ],
          "name": "stdout"
        }
      ]
    },
    {
      "cell_type": "code",
      "metadata": {
        "id": "YZei1o5gUAYc"
      },
      "source": [
        "binarizer = LabelBinarizer()\n",
        "labels = binarizer.fit_transform(labels)"
      ],
      "execution_count": null,
      "outputs": []
    },
    {
      "cell_type": "markdown",
      "metadata": {
        "id": "EFCKNepHU6pI"
      },
      "source": [
        "***Train test split***"
      ]
    },
    {
      "cell_type": "code",
      "metadata": {
        "id": "ExA7gXrIp7s7",
        "outputId": "5d30fefa-3347-4309-81e2-3406f2de7875",
        "colab": {
          "base_uri": "https://localhost:8080/"
        }
      },
      "source": [
        "X_train, X_test, Y_train, Y_test = train_test_split(data, labels, test_size=0.20, stratify=labels, random_state=42)\n",
        "print(f'X_train shape: {X_train.shape}')\n",
        "print(f'X_test shape: {X_test.shape}')\n",
        "print(f'Y_train shape: {Y_train.shape}')\n",
        "print(f'Y_test shape: {Y_test.shape}')"
      ],
      "execution_count": 7,
      "outputs": [
        {
          "output_type": "stream",
          "text": [
            "X_train shape: (1100, 224, 224, 3)\n",
            "X_test shape: (276, 224, 224, 3)\n",
            "Y_train shape: (1100, 1)\n",
            "Y_test shape: (276, 1)\n"
          ],
          "name": "stdout"
        }
      ]
    },
    {
      "cell_type": "markdown",
      "metadata": {
        "id": "nqn-ZQmRU9k3"
      },
      "source": [
        "***Build the classifier***"
      ]
    },
    {
      "cell_type": "code",
      "metadata": {
        "id": "YUljq22Sp-dF",
        "outputId": "a264e43d-01c8-475e-bb23-1eb314276488",
        "colab": {
          "base_uri": "https://localhost:8080/"
        }
      },
      "source": [
        "def get_model(freeze=True):\n",
        "    base_model = tf.keras.applications.MobileNetV2(weights='imagenet',\n",
        "        include_top=False, input_shape=(224, 224, 3))\n",
        "    if freeze:\n",
        "        for layer in base_model.layers:\n",
        "            layer.trainable = False\n",
        "    \n",
        "    head_model = base_model.output\n",
        "    head_model = tf.keras.layers.AveragePooling2D(pool_size=(7, 7))(head_model)\n",
        "    head_model = tf.keras.layers.Flatten()(head_model)\n",
        "    head_model = tf.keras.layers.Dense(128, activation=tf.nn.relu)(head_model)\n",
        "    head_model = tf.keras.layers.Dropout(0.5)(head_model)\n",
        "    head_model = tf.keras.layers.Dense(1, activation='sigmoid')(head_model)\n",
        "    \n",
        "    model = tf.keras.Model(inputs=base_model.input, outputs=head_model)\n",
        "    \n",
        "    return model\n",
        "\n",
        "\n",
        "model = get_model()\n",
        "model.compile(loss='binary_crossentropy', optimizer='adam', metrics=['accuracy'])"
      ],
      "execution_count": 8,
      "outputs": [
        {
          "output_type": "stream",
          "text": [
            "Downloading data from https://storage.googleapis.com/tensorflow/keras-applications/mobilenet_v2/mobilenet_v2_weights_tf_dim_ordering_tf_kernels_1.0_224_no_top.h5\n",
            "9412608/9406464 [==============================] - 0s 0us/step\n"
          ],
          "name": "stdout"
        }
      ]
    },
    {
      "cell_type": "markdown",
      "metadata": {
        "id": "6u8wDRNuVE60"
      },
      "source": [
        "***Data generator***"
      ]
    },
    {
      "cell_type": "code",
      "metadata": {
        "id": "Ak9VTwciqKK3"
      },
      "source": [
        "generator = tf.keras.preprocessing.image.ImageDataGenerator(rotation_range=20,\n",
        "    zoom_range=0.15,\n",
        "    width_shift_range=0.2,\n",
        "    height_shift_range=0.2,\n",
        "    shear_range=0.15,\n",
        "    horizontal_flip=True,\n",
        "    fill_mode='nearest')"
      ],
      "execution_count": 9,
      "outputs": []
    },
    {
      "cell_type": "markdown",
      "metadata": {
        "id": "Z89wlXPFVIZ9"
      },
      "source": [
        "***Fit the model***"
      ]
    },
    {
      "cell_type": "code",
      "metadata": {
        "id": "H2XhSDNSqZdd",
        "outputId": "3ee6498f-6362-4481-87fd-a49ad3d37135",
        "colab": {
          "base_uri": "https://localhost:8080/"
        }
      },
      "source": [
        "history = model.fit(generator.flow(X_train, Y_train, batch_size=32),\n",
        "    steps_per_epoch=len(X_train) // 32,\n",
        "    validation_data=(X_test, Y_test),\n",
        "    validation_steps=len(X_test) // 32,\n",
        "    epochs=5)"
      ],
      "execution_count": 10,
      "outputs": [
        {
          "output_type": "stream",
          "text": [
            "Epoch 1/5\n",
            "34/34 [==============================] - 11s 338ms/step - loss: 0.1216 - accuracy: 0.9410 - val_loss: 0.0091 - val_accuracy: 1.0000\n",
            "Epoch 2/5\n",
            "34/34 [==============================] - 11s 309ms/step - loss: 0.0234 - accuracy: 0.9906 - val_loss: 0.0095 - val_accuracy: 1.0000\n",
            "Epoch 3/5\n",
            "34/34 [==============================] - 11s 313ms/step - loss: 0.0217 - accuracy: 0.9936 - val_loss: 0.0045 - val_accuracy: 1.0000\n",
            "Epoch 4/5\n",
            "34/34 [==============================] - 10s 307ms/step - loss: 0.0181 - accuracy: 0.9925 - val_loss: 0.0053 - val_accuracy: 1.0000\n",
            "Epoch 5/5\n",
            "34/34 [==============================] - 11s 309ms/step - loss: 0.0206 - accuracy: 0.9944 - val_loss: 0.0027 - val_accuracy: 1.0000\n"
          ],
          "name": "stdout"
        }
      ]
    },
    {
      "cell_type": "markdown",
      "metadata": {
        "id": "qBizy0iMVQGV"
      },
      "source": [
        "***Evaluate the model***"
      ]
    },
    {
      "cell_type": "code",
      "metadata": {
        "id": "6xhTe1aVrZUx",
        "outputId": "70977fdc-b96e-4c34-86be-2a1ce77f9019",
        "colab": {
          "base_uri": "https://localhost:8080/"
        }
      },
      "source": [
        "probabilities = model.predict(X_test, batch_size=32)\n",
        "Y_preds = np.where(probabilities > 0.5, 1, 0)\n",
        "print(f'Accuracy={accuracy_score(Y_test.squeeze(), Y_preds.squeeze()) * 100:.2f}%')\n",
        "print(f'F1={f1_score(Y_test.squeeze(), Y_preds.squeeze()) * 100:.2f}%')"
      ],
      "execution_count": 12,
      "outputs": [
        {
          "output_type": "stream",
          "text": [
            "Accuracy=100.00%\n",
            "F1=100.00%\n"
          ],
          "name": "stdout"
        }
      ]
    },
    {
      "cell_type": "markdown",
      "metadata": {
        "id": "pDs1eq0lrzLh"
      },
      "source": [
        "## Build COVID-19 face mask detector for images with OpenCV\n",
        "\n",
        "***Download pretrained face detector model config & weights***"
      ]
    },
    {
      "cell_type": "code",
      "metadata": {
        "id": "hn982f4gz71n",
        "outputId": "d478ef01-6078-4eb0-b3fd-ed48556f04e5",
        "colab": {
          "base_uri": "https://localhost:8080/"
        }
      },
      "source": [
        "!wget --no-check-certificate \\\n",
        "    https://raw.githubusercontent.com/opencv/opencv_3rdparty/dnn_samples_face_detector_20170830/res10_300x300_ssd_iter_140000.caffemodel \\\n",
        "    -O res10_300x300_ssd_iter_140000.caffemodel\n",
        "!wget --no-check-certificate \\\n",
        "    https://raw.githubusercontent.com/opencv/opencv/master/samples/dnn/face_detector/deploy.prototxt \\\n",
        "    -O deploy.prototxt.txt"
      ],
      "execution_count": 22,
      "outputs": [
        {
          "output_type": "stream",
          "text": [
            "--2020-11-04 01:02:47--  https://raw.githubusercontent.com/opencv/opencv_3rdparty/dnn_samples_face_detector_20170830/res10_300x300_ssd_iter_140000.caffemodel\n",
            "Resolving raw.githubusercontent.com (raw.githubusercontent.com)... 151.101.0.133, 151.101.64.133, 151.101.128.133, ...\n",
            "Connecting to raw.githubusercontent.com (raw.githubusercontent.com)|151.101.0.133|:443... connected.\n",
            "HTTP request sent, awaiting response... 200 OK\n",
            "Length: 10666211 (10M) [application/octet-stream]\n",
            "Saving to: ‘res10_300x300_ssd_iter_140000.caffemodel’\n",
            "\n",
            "res10_300x300_ssd_i 100%[===================>]  10.17M  --.-KB/s    in 0.1s    \n",
            "\n",
            "2020-11-04 01:02:48 (77.3 MB/s) - ‘res10_300x300_ssd_iter_140000.caffemodel’ saved [10666211/10666211]\n",
            "\n",
            "--2020-11-04 01:02:48--  https://raw.githubusercontent.com/opencv/opencv/master/samples/dnn/face_detector/deploy.prototxt\n",
            "Resolving raw.githubusercontent.com (raw.githubusercontent.com)... 151.101.0.133, 151.101.64.133, 151.101.128.133, ...\n",
            "Connecting to raw.githubusercontent.com (raw.githubusercontent.com)|151.101.0.133|:443... connected.\n",
            "HTTP request sent, awaiting response... 200 OK\n",
            "Length: 28104 (27K) [text/plain]\n",
            "Saving to: ‘deploy.prototxt.txt’\n",
            "\n",
            "deploy.prototxt.txt 100%[===================>]  27.45K  --.-KB/s    in 0.001s  \n",
            "\n",
            "2020-11-04 01:02:48 (18.6 MB/s) - ‘deploy.prototxt.txt’ saved [28104/28104]\n",
            "\n"
          ],
          "name": "stdout"
        }
      ]
    },
    {
      "cell_type": "markdown",
      "metadata": {
        "id": "WKqJ4R5NWFu-"
      },
      "source": [
        "***Build mask detector***"
      ]
    },
    {
      "cell_type": "code",
      "metadata": {
        "id": "nCvomCk2trri"
      },
      "source": [
        "# Load the face detector model\n",
        "face_detector = cv2.dnn.readNetFromCaffe('deploy.prototxt.txt', 'res10_300x300_ssd_iter_140000.caffemodel')"
      ],
      "execution_count": 87,
      "outputs": []
    },
    {
      "cell_type": "code",
      "metadata": {
        "id": "6j8UX2mWVi0L"
      },
      "source": [
        "def mask_detector(face_detector, mask_classifier, image_filepath, min_proba):\n",
        "    image = cv2.imread(image_filepath) # Load the image\n",
        "    image = cv2.cvtColor(image, cv2.COLOR_BGR2RGB)\n",
        "    # image = cv2.cvtColor(image, cv2.COLOR_BGR2RGB) # Convert to RGB\n",
        "    (h, w) = image.shape[:2] # Get the width and the height of the image\n",
        "\n",
        "    # Input of the face detector model\n",
        "    blob = cv2.dnn.blobFromImage(\n",
        "        cv2.resize(image, (300, 300)), 1.0, (300, 300), (104.0, 177.0, 123.0)\n",
        "    )\n",
        "\n",
        "    # Detect all faces in the image\n",
        "    face_detector.setInput(blob)\n",
        "    detections = face_detector.forward()\n",
        "\n",
        "    for i in range(0, detections.shape[2]):\n",
        "        proba = detections[0, 0, i, 2] # The probability of being a face\n",
        "        if proba > min_proba: # Filter out weak detections\n",
        "            # Get coordinates of face bounding boxes\n",
        "            box = detections[0, 0, i, 3:7] * np.array([w, h, w, h])\n",
        "            startX, startY, endX, endY = box.astype(\"int\")\n",
        "\n",
        "            # Ensure bounding boxes fall within the dimensions of the frame\n",
        "            startX = max(0, startX)\n",
        "            startY = max(0, startY)\n",
        "            endX = min(w - 1, endX)\n",
        "            endY = min(h - 1, endY)\n",
        "\n",
        "            # Extract the face and preprocess it\n",
        "            face = image[startY:endY, startX:endX]\n",
        "            face = cv2.resize(face, (224, 224))\n",
        "            face = tf.keras.preprocessing.image.img_to_array(face)\n",
        "            face = tf.keras.applications.mobilenet_v2.preprocess_input(face)\n",
        "            face = np.expand_dims(face, axis=0)\n",
        "\n",
        "            # Get the prediction\n",
        "            proba = model.predict(face).squeeze()\n",
        "            label = binarizer.classes_[int(proba > 0.5)]\n",
        "            color = (0, 255, 0) if label == \"with_mask\" else (255, 0, 0)\n",
        "            label = \"With Mask\" if label == \"with_mask\" else \"No Mask\"\n",
        "            \n",
        "            # Display the label and bounding box rectangle on the output frame\n",
        "            cv2.putText(image, f\"{label}: {max(proba, 1 - proba) * 100:.2f}%\",\n",
        "                        (startX, startY - 10), cv2.FONT_HERSHEY_SIMPLEX,\n",
        "                        0.45, color, 2)\n",
        "            cv2.rectangle(image, (startX, startY), (endX, endY), color, 2)\n",
        "    return image"
      ],
      "execution_count": 149,
      "outputs": []
    },
    {
      "cell_type": "markdown",
      "metadata": {
        "id": "x0sySJKtZvhP"
      },
      "source": [
        "***Download Test images***"
      ]
    },
    {
      "cell_type": "code",
      "metadata": {
        "id": "Yp815vawVi8X"
      },
      "source": [
        "urls = [\n",
        "    'https://www.thesun.co.uk/wp-content/uploads/2020/05/95699602_665064597389461_1495603232396609764_njpg-JS581346883.jpg',\n",
        "    'https://www.thesun.co.uk/wp-content/uploads/2017/10/nintchdbpict000359446835.jpg',\n",
        "    'https://resize.indiatvnews.com/en/resize/newbucket/1200_-/2020/08/pjimage-2020-08-30t110627-1598765799.jpg',\n",
        "    'https://resize.indiatvnews.com/en/resize/newbucket/715_-/2019/12/messi-ballon-d-or-1577270892.jpg',\n",
        "    'https://cdni.rt.com/files/2020.05/xxl/5ecfdd3f85f5406e08625e82.jpg'\n",
        "]"
      ],
      "execution_count": 160,
      "outputs": []
    },
    {
      "cell_type": "code",
      "metadata": {
        "id": "8QPLKJC8Vi4d"
      },
      "source": [
        "for i, url in enumerate(urls):\n",
        "    extension = url.split('.')[-1]\n",
        "    image_filepath = f'image-{i}.{extension}'\n",
        "    wget.download(url, out=image_filepath)\n",
        "\n",
        "    image = mask_detector(face_detector, model, image_filepath, 0.5)\n",
        "    plt.figure(figsize=(15, 15))\n",
        "    plt.imshow(image)"
      ],
      "execution_count": null,
      "outputs": []
    },
    {
      "cell_type": "code",
      "metadata": {
        "id": "clksvV4W93I7"
      },
      "source": [
        "    "
      ],
      "execution_count": null,
      "outputs": []
    }
  ]
}